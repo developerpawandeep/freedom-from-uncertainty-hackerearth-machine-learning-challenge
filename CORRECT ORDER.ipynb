{
 "cells": [
  {
   "cell_type": "code",
   "execution_count": 1,
   "metadata": {},
   "outputs": [],
   "source": [
    "import pandas as pd\n",
    "import matplotlib as plt\n",
    "import seaborn as sns\n",
    "import numpy as np\n",
    "\n",
    "train = pd.read_csv('C:/Users/Dragneel/Desktop/dataset/train.csv')\n",
    "test  = pd.read_csv('C:/Users/Dragneel/Desktop/dataset/test.csv')\n",
    "sample = pd.read_csv('C:/Users/Dragneel/Desktop/dataset/Sample_Submission.csv')\n",
    "\n",
    "y = train['Price']\n",
    "\n",
    "train = train.drop(['Price'],axis =1)\n",
    "\n",
    "aa = ['SMA', 'EMA', 'WMA', 'DEMA', 'TEMA', 'TRIMA', 'KAMA', 'FAMA', 'MAMA',\n",
    "       'T3', 'MACD', 'MACD_Hist', 'MACD_Signal', 'MAC', 'MACDHist',\n",
    "       'MAC_Signal', 'SlowD', 'SlowK', 'FastD', 'FastK', 'RSI', 'FatD', 'FatK',\n",
    "       'WILLR', 'ADX', 'ADXR', 'APO', 'PPO', 'MOM', 'BOP', 'CCI', 'CMO', 'ROC',\n",
    "       'ROCR', 'MFI', 'TRIX', 'ULTOSC', 'DX', 'MINUS_DI', 'PLUS_DI',\n",
    "       'MINUS_DM', 'PLUS_DM', 'Real Lower Band', 'Real Middle Band',\n",
    "       'Real Upper Band', 'MIDPOINT', 'MIDPRICE', 'SAR', 'TRANGE', 'ATR',\n",
    "       'NATR', 'ADOSC', 'HT_TRENDLINE', 'LEAD SINE', 'SINE', 'DCPERIOD',\n",
    "       'HT_DCPHASE', 'PHASE', 'QUADRATURE']\n",
    "\n",
    "a = ['SMA', 'EMA', 'WMA', 'DEMA', 'TEMA', 'TRIMA', 'KAMA', 'FAMA', 'MAMA',\n",
    "       'T3', 'MACD', 'MACD_Hist', 'MACD_Signal', 'MAC', 'MAC_Hist',\n",
    "       'MAC_Signal', 'SlowD', 'SlowK', 'FastD', 'FastK', 'RSI', 'FatD', 'FatK',\n",
    "       'WILLR', 'ADX', 'ADXR', 'APO', 'PPO', 'MOM', 'BOP', 'CCI', 'CMO', 'ROC',\n",
    "       'ROCR', 'Aroon Down', 'Aroon Up', 'AROONOSC', 'MFI', 'TRIX', 'ULTOSC',\n",
    "       'DX', 'MINUS_DI', 'PLUS_DI', 'MINUS_DM', 'PLUS_DM', 'Real Lower Band',\n",
    "       'Real Middle Band', 'Real Upper Band', 'MIDPOINT', 'MIDPRICE', 'SAR',\n",
    "       'TRANGE', 'ATR', 'NATR', 'Chaikin A/D', 'ADOSC', 'OBV', 'HT_TRENDLINE',\n",
    "       'LEAD SINE', 'SINE', 'TRENDMODE', 'DCPERIOD', 'HT_DCPHASE', 'PHASE',\n",
    "       'QUADRATURE']\n",
    "\n",
    "for _ in a:\n",
    "    if True:\n",
    "        train[_]=train[_].fillna(np.mean(train[_]))\n",
    "    \n",
    "for _ in aa:\n",
    "    if True:\n",
    "        test[_]=test[_].astype(int)\n",
    "for _ in a:\n",
    "    if True:\n",
    "        train[_]=train[_].astype(int)\n",
    "train.dtypes\n",
    "    \n",
    "        \n",
    "\n",
    "train['Date'] = pd.to_datetime(train['Date'])\n",
    "train['ID'] = train['ID'].astype(int) \n",
    "train.set_index('ID', inplace = True)\n",
    "\n",
    "\n",
    "id = test['ID']\n",
    "test = test.drop(['ID'],axis = 1)\n",
    "\n",
    "train = pd.get_dummies(train , columns = ['Company '])\n",
    "train['Company _ABC']= train['Company _ABC'].astype(int)\n",
    "train['Company _DEF']  = train['Company _DEF'].astype(int)\n",
    "train['Company _GHI']  = train['Company _GHI'].astype(int)\n",
    "\n",
    "test  = pd.get_dummies(test  , columns  = ['Company '])\n",
    "\n",
    "test = test.drop(['Date'],axis = 1)\n",
    "train = train.drop(['Date'],axis = 1)"
   ]
  },
  {
   "cell_type": "code",
   "execution_count": 13,
   "metadata": {},
   "outputs": [],
   "source": [
    "from sklearn.feature_selection import SelectKBest\n",
    "from sklearn.feature_selection import chi2"
   ]
  },
  {
   "cell_type": "code",
   "execution_count": 14,
   "metadata": {},
   "outputs": [],
   "source": [
    "bestfeatures = SelectKBest(score_func=chi2, k=10)\n"
   ]
  },
  {
   "cell_type": "code",
   "execution_count": 15,
   "metadata": {},
   "outputs": [],
   "source": [
    "from sklearn.ensemble import RandomForestRegressor \n",
    "from sklearn.model_selection import cross_val_score"
   ]
  },
  {
   "cell_type": "code",
   "execution_count": 16,
   "metadata": {},
   "outputs": [
    {
     "name": "stderr",
     "output_type": "stream",
     "text": [
      "C:\\ProgramData\\Anaconda3\\lib\\site-packages\\sklearn\\ensemble\\forest.py:246: FutureWarning: The default value of n_estimators will change from 10 in version 0.20 to 100 in 0.22.\n",
      "  \"10 in version 0.20 to 100 in 0.22.\", FutureWarning)\n"
     ]
    },
    {
     "data": {
      "text/plain": [
       "RandomForestRegressor(bootstrap=True, criterion='mse', max_depth=None,\n",
       "           max_features='auto', max_leaf_nodes=None,\n",
       "           min_impurity_decrease=0.0, min_impurity_split=None,\n",
       "           min_samples_leaf=1, min_samples_split=2,\n",
       "           min_weight_fraction_leaf=0.0, n_estimators=10, n_jobs=None,\n",
       "           oob_score=False, random_state=1, verbose=0, warm_start=False)"
      ]
     },
     "execution_count": 16,
     "metadata": {},
     "output_type": "execute_result"
    }
   ],
   "source": [
    "RF=RandomForestRegressor(random_state=1)\n",
    "RF.fit(train, y)"
   ]
  },
  {
   "cell_type": "code",
   "execution_count": 17,
   "metadata": {},
   "outputs": [],
   "source": [
    "pred = RF.predict(test)\n"
   ]
  },
  {
   "cell_type": "code",
   "execution_count": 18,
   "metadata": {},
   "outputs": [
    {
     "data": {
      "text/plain": [
       "array([573.54374, 382.434  ,  39.229  , ..., 196.232  , 661.528  ,\n",
       "       131.786  ])"
      ]
     },
     "execution_count": 18,
     "metadata": {},
     "output_type": "execute_result"
    }
   ],
   "source": [
    "pred"
   ]
  },
  {
   "cell_type": "code",
   "execution_count": 19,
   "metadata": {},
   "outputs": [],
   "source": [
    "submit = pd.DataFrame(columns = ['ID' , 'Price'])"
   ]
  },
  {
   "cell_type": "code",
   "execution_count": 20,
   "metadata": {},
   "outputs": [],
   "source": [
    "submit['ID']  = id\n",
    "submit['Price'] =  pred"
   ]
  },
  {
   "cell_type": "code",
   "execution_count": 21,
   "metadata": {},
   "outputs": [
    {
     "data": {
      "text/html": [
       "<div>\n",
       "<style scoped>\n",
       "    .dataframe tbody tr th:only-of-type {\n",
       "        vertical-align: middle;\n",
       "    }\n",
       "\n",
       "    .dataframe tbody tr th {\n",
       "        vertical-align: top;\n",
       "    }\n",
       "\n",
       "    .dataframe thead th {\n",
       "        text-align: right;\n",
       "    }\n",
       "</style>\n",
       "<table border=\"1\" class=\"dataframe\">\n",
       "  <thead>\n",
       "    <tr style=\"text-align: right;\">\n",
       "      <th></th>\n",
       "      <th>ID</th>\n",
       "      <th>Price</th>\n",
       "    </tr>\n",
       "  </thead>\n",
       "  <tbody>\n",
       "    <tr>\n",
       "      <th>0</th>\n",
       "      <td>12001</td>\n",
       "      <td>573.54374</td>\n",
       "    </tr>\n",
       "    <tr>\n",
       "      <th>1</th>\n",
       "      <td>12002</td>\n",
       "      <td>382.43400</td>\n",
       "    </tr>\n",
       "    <tr>\n",
       "      <th>2</th>\n",
       "      <td>12003</td>\n",
       "      <td>39.22900</td>\n",
       "    </tr>\n",
       "    <tr>\n",
       "      <th>3</th>\n",
       "      <td>12004</td>\n",
       "      <td>575.88364</td>\n",
       "    </tr>\n",
       "    <tr>\n",
       "      <th>4</th>\n",
       "      <td>12005</td>\n",
       "      <td>380.05600</td>\n",
       "    </tr>\n",
       "  </tbody>\n",
       "</table>\n",
       "</div>"
      ],
      "text/plain": [
       "      ID      Price\n",
       "0  12001  573.54374\n",
       "1  12002  382.43400\n",
       "2  12003   39.22900\n",
       "3  12004  575.88364\n",
       "4  12005  380.05600"
      ]
     },
     "execution_count": 21,
     "metadata": {},
     "output_type": "execute_result"
    }
   ],
   "source": [
    "submit.head()"
   ]
  },
  {
   "cell_type": "code",
   "execution_count": 22,
   "metadata": {},
   "outputs": [
    {
     "data": {
      "text/plain": [
       "True"
      ]
     },
     "execution_count": 22,
     "metadata": {},
     "output_type": "execute_result"
    }
   ],
   "source": [
    "sample.shape  == submit.shape"
   ]
  },
  {
   "cell_type": "code",
   "execution_count": 23,
   "metadata": {},
   "outputs": [],
   "source": [
    "submit.to_csv('submit.csv')"
   ]
  }
 ],
 "metadata": {
  "kernelspec": {
   "display_name": "Python 3",
   "language": "python",
   "name": "python3"
  },
  "language_info": {
   "codemirror_mode": {
    "name": "ipython",
    "version": 3
   },
   "file_extension": ".py",
   "mimetype": "text/x-python",
   "name": "python",
   "nbconvert_exporter": "python",
   "pygments_lexer": "ipython3",
   "version": "3.7.3"
  }
 },
 "nbformat": 4,
 "nbformat_minor": 2
}
